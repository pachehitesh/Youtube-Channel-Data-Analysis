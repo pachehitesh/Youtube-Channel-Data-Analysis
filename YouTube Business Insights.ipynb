{
 "cells": [
  {
   "cell_type": "markdown",
   "id": "379bccc3-8c9c-4606-974f-7698d22b27c1",
   "metadata": {},
   "source": [
    "## **Import Libraries** \n",
    "Import necessary Python libraries for data manipulation and visualization."
   ]
  },
  {
   "cell_type": "code",
   "execution_count": 45,
   "id": "f9861a49-a14f-484d-ba30-b14dbab36663",
   "metadata": {},
   "outputs": [],
   "source": [
    "import pandas as pd\n",
    "import matplotlib.pyplot as plt\n",
    "import seaborn as sns"
   ]
  },
  {
   "cell_type": "markdown",
   "id": "b8209e7a-5888-4308-99e1-b9f0d82c0538",
   "metadata": {},
   "source": [
    "## **Load Dataset** \n",
    "Load the CSV file."
   ]
  },
  {
   "cell_type": "code",
   "execution_count": 46,
   "id": "1ef3dc04-b2b7-4c02-8420-0727efce6710",
   "metadata": {},
   "outputs": [],
   "source": [
    "df= pd.read_csv(\"20k to 25k business - Sheet2.csv\")"
   ]
  },
  {
   "cell_type": "code",
   "execution_count": 47,
   "id": "0dfeb58d-7e7f-4777-b337-0a076d088748",
   "metadata": {},
   "outputs": [
    {
     "data": {
      "text/html": [
       "<div>\n",
       "<style scoped>\n",
       "    .dataframe tbody tr th:only-of-type {\n",
       "        vertical-align: middle;\n",
       "    }\n",
       "\n",
       "    .dataframe tbody tr th {\n",
       "        vertical-align: top;\n",
       "    }\n",
       "\n",
       "    .dataframe thead th {\n",
       "        text-align: right;\n",
       "    }\n",
       "</style>\n",
       "<table border=\"1\" class=\"dataframe\">\n",
       "  <thead>\n",
       "    <tr style=\"text-align: right;\">\n",
       "      <th></th>\n",
       "      <th>channel link</th>\n",
       "      <th>name</th>\n",
       "      <th>description</th>\n",
       "      <th>no of subs</th>\n",
       "      <th>no of videos</th>\n",
       "      <th>days ago</th>\n",
       "      <th>video views</th>\n",
       "      <th>video link</th>\n",
       "      <th>Email</th>\n",
       "    </tr>\n",
       "  </thead>\n",
       "  <tbody>\n",
       "    <tr>\n",
       "      <th>0</th>\n",
       "      <td>https://playboard.co/en/channel/UCOzcrvw6rin9v...</td>\n",
       "      <td>Veteran With A Sign</td>\n",
       "      <td>This is the YouTube Page of Veteran With A Sig...</td>\n",
       "      <td>23K subscribers,</td>\n",
       "      <td>350 videos</td>\n",
       "      <td>6 days ago</td>\n",
       "      <td>5</td>\n",
       "      <td>https://playboard.co/en/video/gUO39v9lQS0</td>\n",
       "      <td>sponsors@leviathangroupllc.com</td>\n",
       "    </tr>\n",
       "    <tr>\n",
       "      <th>1</th>\n",
       "      <td>https://playboard.co/en/channel/UCtQ4tR2paAW1V...</td>\n",
       "      <td>MaxandRhiana</td>\n",
       "      <td>Thank you guys so much for all the love and su...</td>\n",
       "      <td>20K subscribers,</td>\n",
       "      <td>182 videos</td>\n",
       "      <td>4 days ago</td>\n",
       "      <td>2.5K</td>\n",
       "      <td>https://playboard.co/en/video/undGmYevO2g</td>\n",
       "      <td>maxandrhianabusiness@gmail.com</td>\n",
       "    </tr>\n",
       "    <tr>\n",
       "      <th>2</th>\n",
       "      <td>https://playboard.co/en/channel/UCxS6rRJzNL6hy...</td>\n",
       "      <td>Jaboosle</td>\n",
       "      <td>Huh?\\n\\nBusiness Inquiries: jaboosle96@gmail.c...</td>\n",
       "      <td>24K subscribers,</td>\n",
       "      <td>674 videos</td>\n",
       "      <td>5 days ago</td>\n",
       "      <td>125</td>\n",
       "      <td>https://playboard.co/en/video/nHcoX0DMddg</td>\n",
       "      <td>jaboosle96@gmail.com</td>\n",
       "    </tr>\n",
       "    <tr>\n",
       "      <th>3</th>\n",
       "      <td>https://playboard.co/en/channel/UCRuYi-xG8h61j...</td>\n",
       "      <td>Unknown - Destiny 2</td>\n",
       "      <td>Welcome to my channel where I make Destiny 2 v...</td>\n",
       "      <td>20K subscribers,</td>\n",
       "      <td>1.7K videos</td>\n",
       "      <td>4 days ago</td>\n",
       "      <td>957</td>\n",
       "      <td>https://playboard.co/en/video/q7eReM1RgOM</td>\n",
       "      <td>unknown234business@gmail.com</td>\n",
       "    </tr>\n",
       "    <tr>\n",
       "      <th>4</th>\n",
       "      <td>https://playboard.co/en/channel/UCU31Mfs9VoeU4...</td>\n",
       "      <td>VIZZY</td>\n",
       "      <td>Business- vizzycontact@gmail.com</td>\n",
       "      <td>20K subscribers,</td>\n",
       "      <td>139 videos</td>\n",
       "      <td>5 days ago</td>\n",
       "      <td>188</td>\n",
       "      <td>https://playboard.co/en/video/HEZo6an_Zv0</td>\n",
       "      <td>vizzycontact@gmail.com</td>\n",
       "    </tr>\n",
       "    <tr>\n",
       "      <th>...</th>\n",
       "      <td>...</td>\n",
       "      <td>...</td>\n",
       "      <td>...</td>\n",
       "      <td>...</td>\n",
       "      <td>...</td>\n",
       "      <td>...</td>\n",
       "      <td>...</td>\n",
       "      <td>...</td>\n",
       "      <td>...</td>\n",
       "    </tr>\n",
       "    <tr>\n",
       "      <th>476</th>\n",
       "      <td>https://playboard.co/en/channel/UCo7d74IQbLbxG...</td>\n",
       "      <td>UFC Fanatic</td>\n",
       "      <td>UFC Fanatic is your source for fights/events, ...</td>\n",
       "      <td>24K subscribers,</td>\n",
       "      <td>139 videos</td>\n",
       "      <td>4 days ago</td>\n",
       "      <td>1.2K</td>\n",
       "      <td>https://playboard.co/en/video/uWBZiQm4Los</td>\n",
       "      <td>ptard689@gmail.com</td>\n",
       "    </tr>\n",
       "    <tr>\n",
       "      <th>477</th>\n",
       "      <td>https://playboard.co/en/channel/UCnurmhKMzeG1m...</td>\n",
       "      <td>Nabeeha Fakih</td>\n",
       "      <td>Welcome to my little corner of YouTube, where ...</td>\n",
       "      <td>24K subscribers,</td>\n",
       "      <td>83 videos</td>\n",
       "      <td>10 days ago</td>\n",
       "      <td>550</td>\n",
       "      <td>https://playboard.co/en/video/bYLTLXfEubQ</td>\n",
       "      <td>business.nabeeha@gmail.com</td>\n",
       "    </tr>\n",
       "    <tr>\n",
       "      <th>478</th>\n",
       "      <td>https://playboard.co/en/channel/UCCZnKft1_a4LK...</td>\n",
       "      <td>milkstrology</td>\n",
       "      <td>i talk about astrology, tarot, and romance nov...</td>\n",
       "      <td>24K subscribers,</td>\n",
       "      <td>165 videos</td>\n",
       "      <td>11 days ago</td>\n",
       "      <td>710</td>\n",
       "      <td>https://playboard.co/en/video/SFKPJhZX_qc</td>\n",
       "      <td>mermaidemoji@gmail.com</td>\n",
       "    </tr>\n",
       "    <tr>\n",
       "      <th>479</th>\n",
       "      <td>https://playboard.co/en/channel/UC77IoiADaWpCY...</td>\n",
       "      <td>MapleAwakening</td>\n",
       "      <td>🍁Welcome to Saito's animation channel! Founder...</td>\n",
       "      <td>23K subscribers,</td>\n",
       "      <td>66 videos</td>\n",
       "      <td>14 days ago</td>\n",
       "      <td>245</td>\n",
       "      <td>https://playboard.co/en/video/PCNkAntkf6Q</td>\n",
       "      <td>theofficialmapleawakening@onmail.com</td>\n",
       "    </tr>\n",
       "    <tr>\n",
       "      <th>480</th>\n",
       "      <td>https://playboard.co/en/channel/UCTuxL7BWMr8l-...</td>\n",
       "      <td>UnboxingGamer</td>\n",
       "      <td>For business inquiries email \\nunboxinggamer93...</td>\n",
       "      <td>22K subscribers,</td>\n",
       "      <td>158 videos</td>\n",
       "      <td>20 days ago</td>\n",
       "      <td>8</td>\n",
       "      <td>https://playboard.co/en/video/dOSf9LX50l8</td>\n",
       "      <td>unboxinggamer93@gmail.com</td>\n",
       "    </tr>\n",
       "  </tbody>\n",
       "</table>\n",
       "<p>481 rows × 9 columns</p>\n",
       "</div>"
      ],
      "text/plain": [
       "                                          channel link                 name  \\\n",
       "0    https://playboard.co/en/channel/UCOzcrvw6rin9v...  Veteran With A Sign   \n",
       "1    https://playboard.co/en/channel/UCtQ4tR2paAW1V...         MaxandRhiana   \n",
       "2    https://playboard.co/en/channel/UCxS6rRJzNL6hy...             Jaboosle   \n",
       "3    https://playboard.co/en/channel/UCRuYi-xG8h61j...  Unknown - Destiny 2   \n",
       "4    https://playboard.co/en/channel/UCU31Mfs9VoeU4...                VIZZY   \n",
       "..                                                 ...                  ...   \n",
       "476  https://playboard.co/en/channel/UCo7d74IQbLbxG...          UFC Fanatic   \n",
       "477  https://playboard.co/en/channel/UCnurmhKMzeG1m...        Nabeeha Fakih   \n",
       "478  https://playboard.co/en/channel/UCCZnKft1_a4LK...         milkstrology   \n",
       "479  https://playboard.co/en/channel/UC77IoiADaWpCY...       MapleAwakening   \n",
       "480  https://playboard.co/en/channel/UCTuxL7BWMr8l-...        UnboxingGamer   \n",
       "\n",
       "                                           description        no of subs  \\\n",
       "0    This is the YouTube Page of Veteran With A Sig...  23K subscribers,   \n",
       "1    Thank you guys so much for all the love and su...  20K subscribers,   \n",
       "2    Huh?\\n\\nBusiness Inquiries: jaboosle96@gmail.c...  24K subscribers,   \n",
       "3    Welcome to my channel where I make Destiny 2 v...  20K subscribers,   \n",
       "4                     Business- vizzycontact@gmail.com  20K subscribers,   \n",
       "..                                                 ...               ...   \n",
       "476  UFC Fanatic is your source for fights/events, ...  24K subscribers,   \n",
       "477  Welcome to my little corner of YouTube, where ...  24K subscribers,   \n",
       "478  i talk about astrology, tarot, and romance nov...  24K subscribers,   \n",
       "479  🍁Welcome to Saito's animation channel! Founder...  23K subscribers,   \n",
       "480  For business inquiries email \\nunboxinggamer93...  22K subscribers,   \n",
       "\n",
       "    no of videos     days ago video views  \\\n",
       "0     350 videos   6 days ago           5   \n",
       "1     182 videos   4 days ago        2.5K   \n",
       "2     674 videos   5 days ago         125   \n",
       "3    1.7K videos   4 days ago         957   \n",
       "4     139 videos   5 days ago         188   \n",
       "..           ...          ...         ...   \n",
       "476   139 videos   4 days ago        1.2K   \n",
       "477    83 videos  10 days ago         550   \n",
       "478   165 videos  11 days ago         710   \n",
       "479    66 videos  14 days ago         245   \n",
       "480   158 videos  20 days ago           8   \n",
       "\n",
       "                                    video link  \\\n",
       "0    https://playboard.co/en/video/gUO39v9lQS0   \n",
       "1    https://playboard.co/en/video/undGmYevO2g   \n",
       "2    https://playboard.co/en/video/nHcoX0DMddg   \n",
       "3    https://playboard.co/en/video/q7eReM1RgOM   \n",
       "4    https://playboard.co/en/video/HEZo6an_Zv0   \n",
       "..                                         ...   \n",
       "476  https://playboard.co/en/video/uWBZiQm4Los   \n",
       "477  https://playboard.co/en/video/bYLTLXfEubQ   \n",
       "478  https://playboard.co/en/video/SFKPJhZX_qc   \n",
       "479  https://playboard.co/en/video/PCNkAntkf6Q   \n",
       "480  https://playboard.co/en/video/dOSf9LX50l8   \n",
       "\n",
       "                                    Email  \n",
       "0          sponsors@leviathangroupllc.com  \n",
       "1          maxandrhianabusiness@gmail.com  \n",
       "2                    jaboosle96@gmail.com  \n",
       "3            unknown234business@gmail.com  \n",
       "4                  vizzycontact@gmail.com  \n",
       "..                                    ...  \n",
       "476                    ptard689@gmail.com  \n",
       "477            business.nabeeha@gmail.com  \n",
       "478                mermaidemoji@gmail.com  \n",
       "479  theofficialmapleawakening@onmail.com  \n",
       "480             unboxinggamer93@gmail.com  \n",
       "\n",
       "[481 rows x 9 columns]"
      ]
     },
     "execution_count": 47,
     "metadata": {},
     "output_type": "execute_result"
    }
   ],
   "source": [
    "df"
   ]
  },
  {
   "cell_type": "markdown",
   "id": "81cde2e5-5634-43af-8672-6cd89bc7a14b",
   "metadata": {},
   "source": [
    "## Preview the first few rows."
   ]
  },
  {
   "cell_type": "code",
   "execution_count": 48,
   "id": "d566cb4c-8d2e-483d-b8fa-ddef85037b45",
   "metadata": {},
   "outputs": [
    {
     "data": {
      "text/html": [
       "<div>\n",
       "<style scoped>\n",
       "    .dataframe tbody tr th:only-of-type {\n",
       "        vertical-align: middle;\n",
       "    }\n",
       "\n",
       "    .dataframe tbody tr th {\n",
       "        vertical-align: top;\n",
       "    }\n",
       "\n",
       "    .dataframe thead th {\n",
       "        text-align: right;\n",
       "    }\n",
       "</style>\n",
       "<table border=\"1\" class=\"dataframe\">\n",
       "  <thead>\n",
       "    <tr style=\"text-align: right;\">\n",
       "      <th></th>\n",
       "      <th>channel link</th>\n",
       "      <th>name</th>\n",
       "      <th>description</th>\n",
       "      <th>no of subs</th>\n",
       "      <th>no of videos</th>\n",
       "      <th>days ago</th>\n",
       "      <th>video views</th>\n",
       "      <th>video link</th>\n",
       "      <th>Email</th>\n",
       "    </tr>\n",
       "  </thead>\n",
       "  <tbody>\n",
       "    <tr>\n",
       "      <th>0</th>\n",
       "      <td>https://playboard.co/en/channel/UCOzcrvw6rin9v...</td>\n",
       "      <td>Veteran With A Sign</td>\n",
       "      <td>This is the YouTube Page of Veteran With A Sig...</td>\n",
       "      <td>23K subscribers,</td>\n",
       "      <td>350 videos</td>\n",
       "      <td>6 days ago</td>\n",
       "      <td>5</td>\n",
       "      <td>https://playboard.co/en/video/gUO39v9lQS0</td>\n",
       "      <td>sponsors@leviathangroupllc.com</td>\n",
       "    </tr>\n",
       "    <tr>\n",
       "      <th>1</th>\n",
       "      <td>https://playboard.co/en/channel/UCtQ4tR2paAW1V...</td>\n",
       "      <td>MaxandRhiana</td>\n",
       "      <td>Thank you guys so much for all the love and su...</td>\n",
       "      <td>20K subscribers,</td>\n",
       "      <td>182 videos</td>\n",
       "      <td>4 days ago</td>\n",
       "      <td>2.5K</td>\n",
       "      <td>https://playboard.co/en/video/undGmYevO2g</td>\n",
       "      <td>maxandrhianabusiness@gmail.com</td>\n",
       "    </tr>\n",
       "    <tr>\n",
       "      <th>2</th>\n",
       "      <td>https://playboard.co/en/channel/UCxS6rRJzNL6hy...</td>\n",
       "      <td>Jaboosle</td>\n",
       "      <td>Huh?\\n\\nBusiness Inquiries: jaboosle96@gmail.c...</td>\n",
       "      <td>24K subscribers,</td>\n",
       "      <td>674 videos</td>\n",
       "      <td>5 days ago</td>\n",
       "      <td>125</td>\n",
       "      <td>https://playboard.co/en/video/nHcoX0DMddg</td>\n",
       "      <td>jaboosle96@gmail.com</td>\n",
       "    </tr>\n",
       "    <tr>\n",
       "      <th>3</th>\n",
       "      <td>https://playboard.co/en/channel/UCRuYi-xG8h61j...</td>\n",
       "      <td>Unknown - Destiny 2</td>\n",
       "      <td>Welcome to my channel where I make Destiny 2 v...</td>\n",
       "      <td>20K subscribers,</td>\n",
       "      <td>1.7K videos</td>\n",
       "      <td>4 days ago</td>\n",
       "      <td>957</td>\n",
       "      <td>https://playboard.co/en/video/q7eReM1RgOM</td>\n",
       "      <td>unknown234business@gmail.com</td>\n",
       "    </tr>\n",
       "    <tr>\n",
       "      <th>4</th>\n",
       "      <td>https://playboard.co/en/channel/UCU31Mfs9VoeU4...</td>\n",
       "      <td>VIZZY</td>\n",
       "      <td>Business- vizzycontact@gmail.com</td>\n",
       "      <td>20K subscribers,</td>\n",
       "      <td>139 videos</td>\n",
       "      <td>5 days ago</td>\n",
       "      <td>188</td>\n",
       "      <td>https://playboard.co/en/video/HEZo6an_Zv0</td>\n",
       "      <td>vizzycontact@gmail.com</td>\n",
       "    </tr>\n",
       "  </tbody>\n",
       "</table>\n",
       "</div>"
      ],
      "text/plain": [
       "                                        channel link                 name  \\\n",
       "0  https://playboard.co/en/channel/UCOzcrvw6rin9v...  Veteran With A Sign   \n",
       "1  https://playboard.co/en/channel/UCtQ4tR2paAW1V...         MaxandRhiana   \n",
       "2  https://playboard.co/en/channel/UCxS6rRJzNL6hy...             Jaboosle   \n",
       "3  https://playboard.co/en/channel/UCRuYi-xG8h61j...  Unknown - Destiny 2   \n",
       "4  https://playboard.co/en/channel/UCU31Mfs9VoeU4...                VIZZY   \n",
       "\n",
       "                                         description        no of subs  \\\n",
       "0  This is the YouTube Page of Veteran With A Sig...  23K subscribers,   \n",
       "1  Thank you guys so much for all the love and su...  20K subscribers,   \n",
       "2  Huh?\\n\\nBusiness Inquiries: jaboosle96@gmail.c...  24K subscribers,   \n",
       "3  Welcome to my channel where I make Destiny 2 v...  20K subscribers,   \n",
       "4                   Business- vizzycontact@gmail.com  20K subscribers,   \n",
       "\n",
       "  no of videos    days ago video views  \\\n",
       "0   350 videos  6 days ago           5   \n",
       "1   182 videos  4 days ago        2.5K   \n",
       "2   674 videos  5 days ago         125   \n",
       "3  1.7K videos  4 days ago         957   \n",
       "4   139 videos  5 days ago         188   \n",
       "\n",
       "                                  video link                           Email  \n",
       "0  https://playboard.co/en/video/gUO39v9lQS0  sponsors@leviathangroupllc.com  \n",
       "1  https://playboard.co/en/video/undGmYevO2g  maxandrhianabusiness@gmail.com  \n",
       "2  https://playboard.co/en/video/nHcoX0DMddg            jaboosle96@gmail.com  \n",
       "3  https://playboard.co/en/video/q7eReM1RgOM    unknown234business@gmail.com  \n",
       "4  https://playboard.co/en/video/HEZo6an_Zv0          vizzycontact@gmail.com  "
      ]
     },
     "execution_count": 48,
     "metadata": {},
     "output_type": "execute_result"
    }
   ],
   "source": [
    "df.head()"
   ]
  },
  {
   "cell_type": "code",
   "execution_count": 49,
   "id": "6715f553-9249-4713-a401-60507566360d",
   "metadata": {},
   "outputs": [
    {
     "data": {
      "text/plain": [
       "(481, 9)"
      ]
     },
     "execution_count": 49,
     "metadata": {},
     "output_type": "execute_result"
    }
   ],
   "source": [
    "df.shape"
   ]
  },
  {
   "cell_type": "code",
   "execution_count": 50,
   "id": "0470f3e8-e8b8-43c0-8c8e-6aefe645abc9",
   "metadata": {},
   "outputs": [
    {
     "data": {
      "text/plain": [
       "channel link    object\n",
       "name            object\n",
       "description     object\n",
       "no of subs      object\n",
       "no of videos    object\n",
       "days ago        object\n",
       "video views     object\n",
       "video link      object\n",
       "Email           object\n",
       "dtype: object"
      ]
     },
     "execution_count": 50,
     "metadata": {},
     "output_type": "execute_result"
    }
   ],
   "source": [
    "df.dtypes"
   ]
  },
  {
   "cell_type": "code",
   "execution_count": 51,
   "id": "9941f0ed-373c-4b21-8585-7b9ab466f565",
   "metadata": {},
   "outputs": [
    {
     "data": {
      "text/plain": [
       "channel link     0\n",
       "name             0\n",
       "description      0\n",
       "no of subs       0\n",
       "no of videos     0\n",
       "days ago        21\n",
       "video views      0\n",
       "video link       0\n",
       "Email            0\n",
       "dtype: int64"
      ]
     },
     "execution_count": 51,
     "metadata": {},
     "output_type": "execute_result"
    }
   ],
   "source": [
    "df.isna().sum()"
   ]
  },
  {
   "cell_type": "code",
   "execution_count": 75,
   "id": "b0e4f319-30ef-4881-b85d-69fa4c57c42e",
   "metadata": {},
   "outputs": [
    {
     "data": {
      "text/plain": [
       "['channel link',\n",
       " 'name',\n",
       " 'description',\n",
       " 'video link',\n",
       " 'Email',\n",
       " 'no_of_subs',\n",
       " 'no_of_videos',\n",
       " 'video_views',\n",
       " 'days_ago']"
      ]
     },
     "execution_count": 75,
     "metadata": {},
     "output_type": "execute_result"
    }
   ],
   "source": [
    "df.columns.to_list()"
   ]
  },
  {
   "cell_type": "markdown",
   "id": "63f6d01a-ea25-4f78-ae1e-753d3064103b",
   "metadata": {
    "jp-MarkdownHeadingCollapsed": true
   },
   "source": [
    "## **Data Cleaning**\n",
    "**Algorithm Steps:**\n",
    "\n",
    "✅ Remove text suffixes like 'subscribers', 'videos', and commas.\n",
    "\n",
    "✅ Convert shorthand like 'k' and 'm' to numeric (e.g., 1k → 1000, 1m → 1,000,000).\n",
    "\n",
    "✅ Extract numeric part from 'days ago'.\n",
    "\n",
    "✅ Drop original messy columns."
   ]
  },
  {
   "cell_type": "markdown",
   "id": "74d9e12b-5c75-42d4-a464-0a6befca6970",
   "metadata": {},
   "source": [
    "## **Clean no of subs**"
   ]
  },
  {
   "cell_type": "code",
   "execution_count": 52,
   "id": "3e02364e-8137-4520-af82-c1f236c571cb",
   "metadata": {},
   "outputs": [],
   "source": [
    "df['no_of_subs']=df['no of subs'].astype(str).str.replace('subscriber','', case=False).str.replace(',','').str.strip().str.lower()"
   ]
  },
  {
   "cell_type": "markdown",
   "id": "88155c43-73ef-4350-ae93-e63e9277498e",
   "metadata": {},
   "source": [
    "## **Step-by-step Breakdown:**\n",
    "**df['no of subs'].astype(str)** **→** Converts all values in the column to strings (in case there are numbers or NaN).\n",
    "\n",
    "**.str.replace('subscriber', '', case=False)** **→** Removes the word \"subscriber\" (case-insensitive) from the text, e.g.,\n",
    "'23.1k subscribers' → '23.1k '\n",
    "\n",
    "**.str.replace(',', '')**\n",
    "**→** Removes commas to make numbers parseable, e.g., '23,100' → '23100'.\n",
    "\n",
    "**.str.strip()**\n",
    "**→** Removes any extra spaces at the beginning or end of the string.\n",
    "\n",
    "**.str.lower()**\n",
    "**→** Converts the string to lowercase, useful if units like \"K\" or \"M\" appear in uppercase.\n",
    "\n"
   ]
  },
  {
   "cell_type": "code",
   "execution_count": 53,
   "id": "bec7cedd-fd42-4bdf-864f-8f56fc1a05f0",
   "metadata": {},
   "outputs": [],
   "source": [
    "df['no_of_subs'] = pd.to_numeric(df['no_of_subs'], errors='coerce')\n"
   ]
  },
  {
   "cell_type": "markdown",
   "id": "5687fa41-f768-4943-9984-df8cf4e7c4b5",
   "metadata": {},
   "source": [
    "**.str.replace('k', 'e3'):** Replaces the letter 'k' with 'e3'. This means, for example, '5k' will become '5e3', which is equivalent to 5000.\n",
    "\n",
    "**.str.replace('m', 'e6'):** Replaces the letter 'm' with 'e6'. This would turn '1m' into '1e6', which is equivalent to 1,000,000."
   ]
  },
  {
   "cell_type": "code",
   "execution_count": 54,
   "id": "02d26314-c1ca-40fb-b202-773729fa6188",
   "metadata": {},
   "outputs": [],
   "source": [
    "df['no_of_subs'] = pd.to_numeric(df['no_of_subs'], errors='coerce')"
   ]
  },
  {
   "cell_type": "markdown",
   "id": "7d64b65b-670e-4f41-874f-82992f014c10",
   "metadata": {},
   "source": [
    "**pd.to_numeric(...):** Tries to convert values in the column to numbers (integers or floats).\n",
    "\n",
    "**errors='coerce':** If a value can't be converted (e.g., it's not a number like \"unknown\" or empty), it will be replaced with NaN (missing value)."
   ]
  },
  {
   "cell_type": "markdown",
   "id": "b50c1439-9c3f-473c-be94-664a5e35cf4a",
   "metadata": {},
   "source": [
    "##  **Clean no of videos**"
   ]
  },
  {
   "cell_type": "code",
   "execution_count": 55,
   "id": "1ea2befe-35a4-4dec-b7ce-23e4aa7df086",
   "metadata": {},
   "outputs": [],
   "source": [
    "df['no_of_videos'] = df['no of videos'].astype(str).str.replace('videos', '', case=False).str.strip()"
   ]
  },
  {
   "cell_type": "code",
   "execution_count": 56,
   "id": "158e6685-edc0-46cd-adb1-19861459e05b",
   "metadata": {},
   "outputs": [],
   "source": [
    "df['no_of_videos'] = pd.to_numeric(df['no_of_videos'], errors='coerce')\n"
   ]
  },
  {
   "cell_type": "markdown",
   "id": "6c1b6815-cbfd-49b6-bc59-a43cbc46dd66",
   "metadata": {},
   "source": [
    "## **Clean video views**"
   ]
  },
  {
   "cell_type": "code",
   "execution_count": 57,
   "id": "a82f3b88-98de-43d7-8dc3-39ca90d860be",
   "metadata": {},
   "outputs": [],
   "source": [
    "df['video_views'] = df['video views'].astype(str).str.replace(',', '').str.lower()"
   ]
  },
  {
   "cell_type": "code",
   "execution_count": 58,
   "id": "93a25641-6bf0-4026-a554-3e684941281b",
   "metadata": {},
   "outputs": [],
   "source": [
    "df['video_views'] = df['video_views'].str.replace('k', 'e3').str.replace('m', 'e6')"
   ]
  },
  {
   "cell_type": "code",
   "execution_count": 59,
   "id": "fb4c3242-a793-4d4c-a077-acf2c25c60cd",
   "metadata": {},
   "outputs": [],
   "source": [
    "df['video_views'] = pd.to_numeric(df['video_views'], errors='coerce')"
   ]
  },
  {
   "cell_type": "markdown",
   "id": "f11d71cc-6cab-4512-b91d-e34342cbb91a",
   "metadata": {},
   "source": [
    "# **Clean days ago**"
   ]
  },
  {
   "cell_type": "code",
   "execution_count": 60,
   "id": "656efa4b-a3bd-4bdc-a4c0-9b2334f3f34b",
   "metadata": {},
   "outputs": [],
   "source": [
    "df['days_ago'] = df['days ago'].astype(str).str.extract(r'(\\d+)')"
   ]
  },
  {
   "cell_type": "code",
   "execution_count": 61,
   "id": "711b222d-b534-433a-9018-b9cf7effc406",
   "metadata": {},
   "outputs": [],
   "source": [
    "df['days_ago'] = pd.to_numeric(df['days_ago'], errors='coerce')"
   ]
  },
  {
   "cell_type": "markdown",
   "id": "c1bce68c-659b-495d-ab6f-667d7f5b7f4a",
   "metadata": {},
   "source": [
    "# **Drop original columns**"
   ]
  },
  {
   "cell_type": "code",
   "execution_count": 62,
   "id": "6f37fc0a-0cd7-4017-8f25-8b747c733289",
   "metadata": {},
   "outputs": [],
   "source": [
    "df.drop(columns=['no of subs', 'no of videos', 'video views', 'days ago'], inplace=True)\n"
   ]
  },
  {
   "cell_type": "code",
   "execution_count": 63,
   "id": "24bf8617-2dc1-46c2-a7c3-e7536fc2ef47",
   "metadata": {
    "scrolled": true
   },
   "outputs": [
    {
     "name": "stdout",
     "output_type": "stream",
     "text": [
      "<class 'pandas.core.frame.DataFrame'>\n",
      "RangeIndex: 481 entries, 0 to 480\n",
      "Data columns (total 9 columns):\n",
      " #   Column        Non-Null Count  Dtype  \n",
      "---  ------        --------------  -----  \n",
      " 0   channel link  481 non-null    object \n",
      " 1   name          481 non-null    object \n",
      " 2   description   481 non-null    object \n",
      " 3   video link    481 non-null    object \n",
      " 4   Email         481 non-null    object \n",
      " 5   no_of_subs    0 non-null      float64\n",
      " 6   no_of_videos  428 non-null    float64\n",
      " 7   video_views   458 non-null    float64\n",
      " 8   days_ago      428 non-null    float64\n",
      "dtypes: float64(4), object(5)\n",
      "memory usage: 33.9+ KB\n"
     ]
    }
   ],
   "source": [
    "df.info()"
   ]
  },
  {
   "cell_type": "markdown",
   "id": "a8d37fa9-4461-49dc-882c-f6980163577f",
   "metadata": {},
   "source": [
    "## **Descriptive Statistics**\n",
    "**Description:** Show summary stats (count, mean, std, min, max) for each cleaned numeric column."
   ]
  },
  {
   "cell_type": "code",
   "execution_count": 64,
   "id": "3cfb507e-48e0-4224-97c9-486d40d813b0",
   "metadata": {},
   "outputs": [
    {
     "name": "stdout",
     "output_type": "stream",
     "text": [
      "Subscribers Stats:\n",
      " count    0.0\n",
      "mean     NaN\n",
      "std      NaN\n",
      "min      NaN\n",
      "25%      NaN\n",
      "50%      NaN\n",
      "75%      NaN\n",
      "max      NaN\n",
      "Name: no_of_subs, dtype: float64\n"
     ]
    }
   ],
   "source": [
    "print(\"Subscribers Stats:\\n\", df['no_of_subs'].describe())\n"
   ]
  },
  {
   "cell_type": "code",
   "execution_count": 65,
   "id": "79f59619-6130-4163-b069-902d2fd834dd",
   "metadata": {},
   "outputs": [
    {
     "name": "stdout",
     "output_type": "stream",
     "text": [
      "\n",
      "Videos Stat:\n",
      " count    428.000000\n",
      "mean     280.726636\n",
      "std      229.566841\n",
      "min        4.000000\n",
      "25%      100.500000\n",
      "50%      219.000000\n",
      "75%      384.500000\n",
      "max      992.000000\n",
      "Name: no_of_videos, dtype: float64\n"
     ]
    }
   ],
   "source": [
    "print(\"\\nVideos Stat:\\n\",df['no_of_videos'].describe())"
   ]
  },
  {
   "cell_type": "code",
   "execution_count": 66,
   "id": "305fc37f-bfa3-4bb2-86dc-cd8345ceaf14",
   "metadata": {},
   "outputs": [
    {
     "name": "stdout",
     "output_type": "stream",
     "text": [
      "\n",
      "Days Ago Stats:\n",
      " count    428.000000\n",
      "mean       7.978972\n",
      "std        5.851562\n",
      "min        2.000000\n",
      "25%        4.000000\n",
      "50%        6.000000\n",
      "75%       11.000000\n",
      "max       25.000000\n",
      "Name: days_ago, dtype: float64\n"
     ]
    }
   ],
   "source": [
    "print(\"\\nDays Ago Stats:\\n\",df['days_ago'].describe())"
   ]
  },
  {
   "cell_type": "markdown",
   "id": "b0ab28f1-6456-4ade-8380-8b3ac4e33393",
   "metadata": {},
   "source": [
    "**Observation:**\n",
    "\n",
    "➡ Check for unusually high standard deviation or max values, which may indicate outliers.\n",
    "\n",
    "➡ See if the dataset is skewed (e.g., min very far from mean)."
   ]
  },
  {
   "cell_type": "markdown",
   "id": "c339958f-359c-48d0-9233-a6dbbad582d6",
   "metadata": {},
   "source": [
    "## **Distribution of Subscribers**\n",
    "\n",
    "**Description:** Visualize how subscriber counts are spread across the dataset."
   ]
  },
  {
   "cell_type": "code",
   "execution_count": 67,
   "id": "1b64f66f-e1f3-4340-a69c-521d2b3332a3",
   "metadata": {},
   "outputs": [
    {
     "data": {
      "image/png": "[encoded data removed]",
      "text/plain": [
       "<Figure size 640x480 with 1 Axes>"
      ]
     },
     "metadata": {},
     "output_type": "display_data"
    }
   ],
   "source": [
    "sns.histplot(df['no_of_subs'].dropna(), bins=30, kde=True)\n",
    "plt.title(\"Distribution of Subscribers\")\n",
    "plt.xlabel(\"Subscribers\")\n",
    "plt.ylabel(\"Frequency\")\n",
    "plt.show()\n"
   ]
  },
  {
   "cell_type": "markdown",
   "id": "eed41891-368e-4635-9804-ccda9a9df70d",
   "metadata": {},
   "source": [
    "## **Observation:**\n",
    "\n",
    "➡ Identify if most accounts are clustered at the low or high subscriber range.\n",
    "\n",
    "➡ Check for long-tail effects or outlier spikes."
   ]
  },
  {
   "cell_type": "markdown",
   "id": "eae17b5a-0be0-446b-b7ff-9d043ee73085",
   "metadata": {},
   "source": [
    "## **Distribution of Videos**\n",
    "\n",
    "**Description:** Show how many videos the accounts typically have."
   ]
  },
  {
   "cell_type": "code",
   "execution_count": 68,
   "id": "e8196780-2ba0-4a6b-87f0-c53324f79b4f",
   "metadata": {},
   "outputs": [
    {
     "data": {
      "image/png": "[encoded data removed]",
      "text/plain": [
       "<Figure size 640x480 with 1 Axes>"
      ]
     },
     "metadata": {},
     "output_type": "display_data"
    }
   ],
   "source": [
    "sns.histplot(df['no_of_videos'].dropna(), bins=30, kde=True)\n",
    "plt.title(\"Distribution of Videos\")\n",
    "plt.xlabel(\"Number of Videos\")\n",
    "plt.ylabel(\"Frequency\")\n",
    "plt.show()\n"
   ]
  },
  {
   "cell_type": "markdown",
   "id": "8ec159a6-6553-4a2c-982d-5247533d36e0",
   "metadata": {},
   "source": [
    "## **Observation:**\n",
    "\n",
    "➡ See if most creators have under a certain number of videos.\n",
    "\n",
    "➡ Identify any mass uploaders or very low-activity accounts."
   ]
  },
  {
   "cell_type": "markdown",
   "id": "33b39867-7386-442f-aba6-9d4d3561e5ee",
   "metadata": {},
   "source": [
    "## **Distribution of Video Views**\n",
    "**Description:** Plot total video views across all accounts."
   ]
  },
  {
   "cell_type": "code",
   "execution_count": 69,
   "id": "322c8c13-8fb5-4919-aa3a-89bd2db9d312",
   "metadata": {},
   "outputs": [
    {
     "data": {
      "image/png": "[encoded data removed]",
      "text/plain": [
       "<Figure size 640x480 with 1 Axes>"
      ]
     },
     "metadata": {},
     "output_type": "display_data"
    }
   ],
   "source": [
    "sns.histplot(df['video_views'].dropna(), bins=30, kde=True)\n",
    "plt.title(\"Distribution of Video Views\")\n",
    "plt.xlabel(\"Views\")\n",
    "plt.ylabel(\"Frequency\")\n",
    "plt.show()\n"
   ]
  },
  {
   "cell_type": "markdown",
   "id": "b7e0c053-24c8-4d4e-846a-696acbb8fead",
   "metadata": {},
   "source": [
    "##  **Observation:**\n",
    "\n",
    "➡ Detect if most accounts have modest views or if there are viral spikes.\n",
    "\n",
    "➡ Check if views align with subscriber counts."
   ]
  },
  {
   "cell_type": "markdown",
   "id": "553d45c1-e453-48a0-9ffe-9dbd9ec9c3f0",
   "metadata": {},
   "source": [
    "## **Days Since Last Upload**\n",
    "**Description:** Analyze recency of activity."
   ]
  },
  {
   "cell_type": "code",
   "execution_count": 70,
   "id": "b1a6c235-e913-420d-866d-76f66ba4f15e",
   "metadata": {},
   "outputs": [
    {
     "data": {
      "image/png": "[encoded data removed]",
      "text/plain": [
       "<Figure size 640x480 with 1 Axes>"
      ]
     },
     "metadata": {},
     "output_type": "display_data"
    }
   ],
   "source": [
    "sns.histplot(df['days_ago'].dropna(), bins=30, kde=True)\n",
    "plt.title(\"Days Since Last Upload\")\n",
    "plt.xlabel(\"Days Ago\")\n",
    "plt.ylabel(\"Frequency\")\n",
    "plt.show()\n"
   ]
  },
  {
   "cell_type": "markdown",
   "id": "911841f1-3e83-4147-bc4b-4a6c2c064088",
   "metadata": {},
   "source": [
    "## **Observation:**\n",
    "\n",
    "➡ Are most accounts recently active or inactive?\n",
    "\n",
    "➡ Spot patterns of consistency or sudden drop-offs."
   ]
  },
  {
   "cell_type": "markdown",
   "id": "89b99e4e-490a-4e7c-9518-55a36dd30655",
   "metadata": {},
   "source": [
    "## **Scatter — Subscribers vs. Videos**\n",
    "**Description:** Examine if uploading more videos leads to more subscribers."
   ]
  },
  {
   "cell_type": "code",
   "execution_count": 71,
   "id": "e1566fdc-1ad5-4206-9d4f-263c217e096c",
   "metadata": {},
   "outputs": [
    {
     "data": {
      "image/png": "[encoded data removed]",
      "text/plain": [
       "<Figure size 640x480 with 1 Axes>"
      ]
     },
     "metadata": {},
     "output_type": "display_data"
    }
   ],
   "source": [
    "sns.regplot(data=df, x='no_of_subs', y='no_of_videos', scatter_kws={'alpha': 0.6})\n",
    "plt.title(\"Subscribers vs Videos\")\n",
    "plt.xlabel(\"Subscribers\")\n",
    "plt.ylabel(\"Videos\")\n",
    "plt.show()\n"
   ]
  },
  {
   "cell_type": "markdown",
   "id": "e9a82f87-0123-4386-93d9-e182ad16a7df",
   "metadata": {},
   "source": [
    "**Observation:**\n",
    "\n",
    "➡ Check if there’s a positive correlation between uploads and subscriber growth.\n",
    "\n",
    "➡ Identify creators with few videos but high subscribers (possible viral hits)."
   ]
  },
  {
   "cell_type": "markdown",
   "id": "d792bf47-d0dd-44ea-839d-ec0f48d8309d",
   "metadata": {},
   "source": [
    "## **Scatter — Subscribers vs. Views**\n",
    "**Description:** Assess how subscriber numbers connect to total views."
   ]
  },
  {
   "cell_type": "code",
   "execution_count": 72,
   "id": "bcdb7455-41a4-490c-bdf2-6805047815e9",
   "metadata": {},
   "outputs": [
    {
     "data": {
      "image/png": "[encoded data removed]",
      "text/plain": [
       "<Figure size 640x480 with 1 Axes>"
      ]
     },
     "metadata": {},
     "output_type": "display_data"
    }
   ],
   "source": [
    "sns.regplot(data=df, x='no_of_subs', y='video_views', scatter_kws={'alpha': 0.6})\n",
    "plt.title(\"Subscribers vs Video Views\")\n",
    "plt.xlabel(\"Subscribers\")\n",
    "plt.ylabel(\"Views\")\n",
    "plt.show()\n"
   ]
  },
  {
   "cell_type": "markdown",
   "id": "f0be33fe-de30-49e8-bd44-97766604815d",
   "metadata": {},
   "source": [
    "## **Observation:**\n",
    "➡ Confirm if more subscribers generally lead to higher total views.\n",
    "\n",
    "➡ Spot any outliers (accounts with unusually high views but low subs)."
   ]
  },
  {
   "cell_type": "markdown",
   "id": "43f0b9a3-483a-41bf-9538-4dacefe0b122",
   "metadata": {},
   "source": [
    "## **Scatter — Videos vs. Views**\n",
    "**Description:** Check the relationship between number of uploads and total views."
   ]
  },
  {
   "cell_type": "code",
   "execution_count": 73,
   "id": "e4de6832-9175-42d7-8ab8-32ffdd6dcfb0",
   "metadata": {},
   "outputs": [
    {
     "data": {
      "image/png": "[encoded data removed]",
      "text/plain": [
       "<Figure size 640x480 with 1 Axes>"
      ]
     },
     "metadata": {},
     "output_type": "display_data"
    }
   ],
   "source": [
    "sns.regplot(data=df, x='no_of_videos', y='video_views', scatter_kws={'alpha': 0.6})\n",
    "plt.title(\"Videos vs Views\")\n",
    "plt.xlabel(\"Videos\")\n",
    "plt.ylabel(\"Views\")\n",
    "plt.show()\n"
   ]
  },
  {
   "cell_type": "markdown",
   "id": "3265dd98-774f-46e6-96c6-27ae0b113e9a",
   "metadata": {},
   "source": [
    "**Observation:**\n",
    "\n",
    "➡ See if more uploads directly drive more views.\n",
    "\n",
    "➡ Identify cases where a few videos generate massive views (viral content)."
   ]
  },
  {
   "cell_type": "markdown",
   "id": "85a8d9c6-642a-4fc7-bd52-45ba1019134f",
   "metadata": {},
   "source": [
    "## **Scatter — Days Ago vs. Views**\n",
    "**Description:** Explore if recency affects total view counts."
   ]
  },
  {
   "cell_type": "code",
   "execution_count": 74,
   "id": "93e444ce-33b5-4694-ab78-2cc8e5efb3b6",
   "metadata": {},
   "outputs": [
    {
     "data": {
      "image/png": "[encoded data removed]",
      "text/plain": [
       "<Figure size 640x480 with 1 Axes>"
      ]
     },
     "metadata": {},
     "output_type": "display_data"
    }
   ],
   "source": [
    "sns.regplot(data=df, x='days_ago', y='video_views', scatter_kws={'alpha': 0.6})\n",
    "plt.title(\"Days Since Upload vs Views\")\n",
    "plt.xlabel(\"Days Ago\")\n",
    "plt.ylabel(\"Views\")\n",
    "plt.show()\n"
   ]
  },
  {
   "cell_type": "code",
   "execution_count": 77,
   "id": "168b54a0-fc37-4ab6-ab58-93a4ecd5913c",
   "metadata": {},
   "outputs": [
    {
     "data": {
      "text/html": [
       "<div>\n",
       "<style scoped>\n",
       "    .dataframe tbody tr th:only-of-type {\n",
       "        vertical-align: middle;\n",
       "    }\n",
       "\n",
       "    .dataframe tbody tr th {\n",
       "        vertical-align: top;\n",
       "    }\n",
       "\n",
       "    .dataframe thead th {\n",
       "        text-align: right;\n",
       "    }\n",
       "</style>\n",
       "<table border=\"1\" class=\"dataframe\">\n",
       "  <thead>\n",
       "    <tr style=\"text-align: right;\">\n",
       "      <th></th>\n",
       "      <th>channel link</th>\n",
       "      <th>name</th>\n",
       "      <th>description</th>\n",
       "      <th>video link</th>\n",
       "      <th>Email</th>\n",
       "      <th>no_of_subs</th>\n",
       "      <th>no_of_videos</th>\n",
       "      <th>video_views</th>\n",
       "      <th>days_ago</th>\n",
       "    </tr>\n",
       "  </thead>\n",
       "  <tbody>\n",
       "    <tr>\n",
       "      <th>0</th>\n",
       "      <td>https://playboard.co/en/channel/UCOzcrvw6rin9v...</td>\n",
       "      <td>Veteran With A Sign</td>\n",
       "      <td>This is the YouTube Page of Veteran With A Sig...</td>\n",
       "      <td>https://playboard.co/en/video/gUO39v9lQS0</td>\n",
       "      <td>sponsors@leviathangroupllc.com</td>\n",
       "      <td>NaN</td>\n",
       "      <td>350.0</td>\n",
       "      <td>5.0</td>\n",
       "      <td>6.0</td>\n",
       "    </tr>\n",
       "    <tr>\n",
       "      <th>1</th>\n",
       "      <td>https://playboard.co/en/channel/UCtQ4tR2paAW1V...</td>\n",
       "      <td>MaxandRhiana</td>\n",
       "      <td>Thank you guys so much for all the love and su...</td>\n",
       "      <td>https://playboard.co/en/video/undGmYevO2g</td>\n",
       "      <td>maxandrhianabusiness@gmail.com</td>\n",
       "      <td>NaN</td>\n",
       "      <td>182.0</td>\n",
       "      <td>2500.0</td>\n",
       "      <td>4.0</td>\n",
       "    </tr>\n",
       "    <tr>\n",
       "      <th>2</th>\n",
       "      <td>https://playboard.co/en/channel/UCxS6rRJzNL6hy...</td>\n",
       "      <td>Jaboosle</td>\n",
       "      <td>Huh?\\n\\nBusiness Inquiries: jaboosle96@gmail.c...</td>\n",
       "      <td>https://playboard.co/en/video/nHcoX0DMddg</td>\n",
       "      <td>jaboosle96@gmail.com</td>\n",
       "      <td>NaN</td>\n",
       "      <td>674.0</td>\n",
       "      <td>125.0</td>\n",
       "      <td>5.0</td>\n",
       "    </tr>\n",
       "    <tr>\n",
       "      <th>3</th>\n",
       "      <td>https://playboard.co/en/channel/UCRuYi-xG8h61j...</td>\n",
       "      <td>Unknown - Destiny 2</td>\n",
       "      <td>Welcome to my channel where I make Destiny 2 v...</td>\n",
       "      <td>https://playboard.co/en/video/q7eReM1RgOM</td>\n",
       "      <td>unknown234business@gmail.com</td>\n",
       "      <td>NaN</td>\n",
       "      <td>NaN</td>\n",
       "      <td>957.0</td>\n",
       "      <td>4.0</td>\n",
       "    </tr>\n",
       "    <tr>\n",
       "      <th>4</th>\n",
       "      <td>https://playboard.co/en/channel/UCU31Mfs9VoeU4...</td>\n",
       "      <td>VIZZY</td>\n",
       "      <td>Business- vizzycontact@gmail.com</td>\n",
       "      <td>https://playboard.co/en/video/HEZo6an_Zv0</td>\n",
       "      <td>vizzycontact@gmail.com</td>\n",
       "      <td>NaN</td>\n",
       "      <td>139.0</td>\n",
       "      <td>188.0</td>\n",
       "      <td>5.0</td>\n",
       "    </tr>\n",
       "    <tr>\n",
       "      <th>...</th>\n",
       "      <td>...</td>\n",
       "      <td>...</td>\n",
       "      <td>...</td>\n",
       "      <td>...</td>\n",
       "      <td>...</td>\n",
       "      <td>...</td>\n",
       "      <td>...</td>\n",
       "      <td>...</td>\n",
       "      <td>...</td>\n",
       "    </tr>\n",
       "    <tr>\n",
       "      <th>476</th>\n",
       "      <td>https://playboard.co/en/channel/UCo7d74IQbLbxG...</td>\n",
       "      <td>UFC Fanatic</td>\n",
       "      <td>UFC Fanatic is your source for fights/events, ...</td>\n",
       "      <td>https://playboard.co/en/video/uWBZiQm4Los</td>\n",
       "      <td>ptard689@gmail.com</td>\n",
       "      <td>NaN</td>\n",
       "      <td>139.0</td>\n",
       "      <td>1200.0</td>\n",
       "      <td>4.0</td>\n",
       "    </tr>\n",
       "    <tr>\n",
       "      <th>477</th>\n",
       "      <td>https://playboard.co/en/channel/UCnurmhKMzeG1m...</td>\n",
       "      <td>Nabeeha Fakih</td>\n",
       "      <td>Welcome to my little corner of YouTube, where ...</td>\n",
       "      <td>https://playboard.co/en/video/bYLTLXfEubQ</td>\n",
       "      <td>business.nabeeha@gmail.com</td>\n",
       "      <td>NaN</td>\n",
       "      <td>83.0</td>\n",
       "      <td>550.0</td>\n",
       "      <td>10.0</td>\n",
       "    </tr>\n",
       "    <tr>\n",
       "      <th>478</th>\n",
       "      <td>https://playboard.co/en/channel/UCCZnKft1_a4LK...</td>\n",
       "      <td>milkstrology</td>\n",
       "      <td>i talk about astrology, tarot, and romance nov...</td>\n",
       "      <td>https://playboard.co/en/video/SFKPJhZX_qc</td>\n",
       "      <td>mermaidemoji@gmail.com</td>\n",
       "      <td>NaN</td>\n",
       "      <td>165.0</td>\n",
       "      <td>710.0</td>\n",
       "      <td>11.0</td>\n",
       "    </tr>\n",
       "    <tr>\n",
       "      <th>479</th>\n",
       "      <td>https://playboard.co/en/channel/UC77IoiADaWpCY...</td>\n",
       "      <td>MapleAwakening</td>\n",
       "      <td>🍁Welcome to Saito's animation channel! Founder...</td>\n",
       "      <td>https://playboard.co/en/video/PCNkAntkf6Q</td>\n",
       "      <td>theofficialmapleawakening@onmail.com</td>\n",
       "      <td>NaN</td>\n",
       "      <td>66.0</td>\n",
       "      <td>245.0</td>\n",
       "      <td>14.0</td>\n",
       "    </tr>\n",
       "    <tr>\n",
       "      <th>480</th>\n",
       "      <td>https://playboard.co/en/channel/UCTuxL7BWMr8l-...</td>\n",
       "      <td>UnboxingGamer</td>\n",
       "      <td>For business inquiries email \\nunboxinggamer93...</td>\n",
       "      <td>https://playboard.co/en/video/dOSf9LX50l8</td>\n",
       "      <td>unboxinggamer93@gmail.com</td>\n",
       "      <td>NaN</td>\n",
       "      <td>158.0</td>\n",
       "      <td>8.0</td>\n",
       "      <td>20.0</td>\n",
       "    </tr>\n",
       "  </tbody>\n",
       "</table>\n",
       "<p>481 rows × 9 columns</p>\n",
       "</div>"
      ],
      "text/plain": [
       "                                          channel link                 name  \\\n",
       "0    https://playboard.co/en/channel/UCOzcrvw6rin9v...  Veteran With A Sign   \n",
       "1    https://playboard.co/en/channel/UCtQ4tR2paAW1V...         MaxandRhiana   \n",
       "2    https://playboard.co/en/channel/UCxS6rRJzNL6hy...             Jaboosle   \n",
       "3    https://playboard.co/en/channel/UCRuYi-xG8h61j...  Unknown - Destiny 2   \n",
       "4    https://playboard.co/en/channel/UCU31Mfs9VoeU4...                VIZZY   \n",
       "..                                                 ...                  ...   \n",
       "476  https://playboard.co/en/channel/UCo7d74IQbLbxG...          UFC Fanatic   \n",
       "477  https://playboard.co/en/channel/UCnurmhKMzeG1m...        Nabeeha Fakih   \n",
       "478  https://playboard.co/en/channel/UCCZnKft1_a4LK...         milkstrology   \n",
       "479  https://playboard.co/en/channel/UC77IoiADaWpCY...       MapleAwakening   \n",
       "480  https://playboard.co/en/channel/UCTuxL7BWMr8l-...        UnboxingGamer   \n",
       "\n",
       "                                           description  \\\n",
       "0    This is the YouTube Page of Veteran With A Sig...   \n",
       "1    Thank you guys so much for all the love and su...   \n",
       "2    Huh?\\n\\nBusiness Inquiries: jaboosle96@gmail.c...   \n",
       "3    Welcome to my channel where I make Destiny 2 v...   \n",
       "4                     Business- vizzycontact@gmail.com   \n",
       "..                                                 ...   \n",
       "476  UFC Fanatic is your source for fights/events, ...   \n",
       "477  Welcome to my little corner of YouTube, where ...   \n",
       "478  i talk about astrology, tarot, and romance nov...   \n",
       "479  🍁Welcome to Saito's animation channel! Founder...   \n",
       "480  For business inquiries email \\nunboxinggamer93...   \n",
       "\n",
       "                                    video link  \\\n",
       "0    https://playboard.co/en/video/gUO39v9lQS0   \n",
       "1    https://playboard.co/en/video/undGmYevO2g   \n",
       "2    https://playboard.co/en/video/nHcoX0DMddg   \n",
       "3    https://playboard.co/en/video/q7eReM1RgOM   \n",
       "4    https://playboard.co/en/video/HEZo6an_Zv0   \n",
       "..                                         ...   \n",
       "476  https://playboard.co/en/video/uWBZiQm4Los   \n",
       "477  https://playboard.co/en/video/bYLTLXfEubQ   \n",
       "478  https://playboard.co/en/video/SFKPJhZX_qc   \n",
       "479  https://playboard.co/en/video/PCNkAntkf6Q   \n",
       "480  https://playboard.co/en/video/dOSf9LX50l8   \n",
       "\n",
       "                                    Email  no_of_subs  no_of_videos  \\\n",
       "0          sponsors@leviathangroupllc.com         NaN         350.0   \n",
       "1          maxandrhianabusiness@gmail.com         NaN         182.0   \n",
       "2                    jaboosle96@gmail.com         NaN         674.0   \n",
       "3            unknown234business@gmail.com         NaN           NaN   \n",
       "4                  vizzycontact@gmail.com         NaN         139.0   \n",
       "..                                    ...         ...           ...   \n",
       "476                    ptard689@gmail.com         NaN         139.0   \n",
       "477            business.nabeeha@gmail.com         NaN          83.0   \n",
       "478                mermaidemoji@gmail.com         NaN         165.0   \n",
       "479  theofficialmapleawakening@onmail.com         NaN          66.0   \n",
       "480             unboxinggamer93@gmail.com         NaN         158.0   \n",
       "\n",
       "     video_views  days_ago  \n",
       "0            5.0       6.0  \n",
       "1         2500.0       4.0  \n",
       "2          125.0       5.0  \n",
       "3          957.0       4.0  \n",
       "4          188.0       5.0  \n",
       "..           ...       ...  \n",
       "476       1200.0       4.0  \n",
       "477        550.0      10.0  \n",
       "478        710.0      11.0  \n",
       "479        245.0      14.0  \n",
       "480          8.0      20.0  \n",
       "\n",
       "[481 rows x 9 columns]"
      ]
     },
     "execution_count": 77,
     "metadata": {},
     "output_type": "execute_result"
    }
   ],
   "source": [
    "df"
   ]
  },
  {
   "cell_type": "markdown",
   "id": "fabc7d9c-a46b-4835-bbf0-4fab716baff8",
   "metadata": {},
   "source": [
    "## **Observation:**\n",
    "\n",
    "➡ Check if recently active channels get more cumulative views.\n",
    "\n",
    "➡ See if inactive channels still hold large historical view counts."
   ]
  },
  {
   "cell_type": "markdown",
   "id": "4e89deaf-1c9f-4062-b253-78304c50a275",
   "metadata": {},
   "source": [
    "\n",
    "# 📊 Final Summary of Insights\n",
    "\n",
    "-  **Subscribers Distribution:**  \n",
    "Most channels cluster around the lower end of the 20k–25k subscriber range, with a few high-end outliers.\n",
    "\n",
    "- **Video Counts:**  \n",
    "Many creators maintain moderate upload counts, though a handful are high-frequency uploaders. A few channels achieve strong subscriber numbers despite having fewer videos, hinting at viral content or niche authority.\n",
    "\n",
    "-  **Total Views:**  \n",
    "While total views generally increase with subscriber count, some channels show disproportionately high views, likely driven by a few viral videos.\n",
    "\n",
    "-  **Recency of Activity:**  \n",
    "A significant portion of channels are recently active, though some high-view or high-subscription channels show longer inactivity, suggesting that past content still drives value.\n",
    "\n",
    "-  **Correlation Observations:**  \n",
    "- **Subscribers vs. Videos:** Weak-to-moderate correlation; more uploads help, but aren’t the only success driver.\n",
    "- **Subscribers vs. Views:** Stronger correlation; more subscribers generally bring more views, but with notable outliers.\n",
    "- **Videos vs. Views:** Generally positive relationship, but again influenced by content quality and virality.\n",
    "- **Days Ago vs. Views:** Recently active channels often perform well, but evergreen content keeps some inactive channels highly viewed.\n",
    "\n",
    "### 🌟 Takeaways:\n",
    "- **Consistency matters,** but quality or niche relevance can outweigh sheer volume.\n",
    "- **Virality can significantly skew metrics,** creating standout outliers.\n",
    "- **Subscriber counts and view counts** are useful indicators but should always be viewed alongside recency and content strategy.\n"
   ]
  },
  {
   "cell_type": "code",
   "execution_count": null,
   "id": "28bf1f72-4f63-4861-b74a-23ab568e9be7",
   "metadata": {},
   "outputs": [],
   "source": []
  },
  {
   "cell_type": "code",
   "execution_count": null,
   "id": "578988d3-a2c9-4ba5-a069-c1c8c3004dc6",
   "metadata": {},
   "outputs": [],
   "source": []
  }
 ],
 "metadata": {
  "kernelspec": {
   "display_name": "Python 3 (ipykernel)",
   "language": "python",
   "name": "python3"
  },
  "language_info": {
   "codemirror_mode": {
    "name": "ipython",
    "version": 3
   },
   "file_extension": ".py",
   "mimetype": "text/x-python",
   "name": "python",
   "nbconvert_exporter": "python",
   "pygments_lexer": "ipython3",
   "version": "3.13.1"
  }
 },
 "nbformat": 4,
 "nbformat_minor": 5
}
